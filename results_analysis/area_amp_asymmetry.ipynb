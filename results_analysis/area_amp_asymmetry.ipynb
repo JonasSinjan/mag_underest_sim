{
 "cells": [
  {
   "cell_type": "markdown",
   "id": "46f2a3ab",
   "metadata": {},
   "source": [
    "# Find area and amplitude asymmetry of avg profile"
   ]
  },
  {
   "cell_type": "code",
   "execution_count": 1,
   "id": "3c332ab6",
   "metadata": {},
   "outputs": [
    {
     "data": {
      "text/html": [
       "<style>.container { width:100% !important; }</style>"
      ],
      "text/plain": [
       "<IPython.core.display.HTML object>"
      ]
     },
     "metadata": {},
     "output_type": "display_data"
    }
   ],
   "source": [
    "import numpy as np\n",
    "from astropy.io import fits\n",
    "import matplotlib.pyplot as plt\n",
    "import scipy.integrate as spi\n",
    "import os\n",
    "import time\n",
    "import subprocess\n",
    "\n",
    "from blos_binning_helper import create_stokes_profiles\n",
    "\n",
    "import matplotlib as mpl\n",
    "from IPython.core.display import display, HTML\n",
    "display(HTML(\"<style>.container { width:100% !important; }</style>\"))\n",
    "\n",
    "font = {'family' : 'normal',\n",
    "        'weight' : 'normal',\n",
    "        'size'   : 15}\n",
    "\n",
    "mpl.rcParams['figure.dpi'] = 300\n",
    "mpl.rc_file_defaults()\n",
    "plt.rc('font', **font)\n",
    "mpl.rcParams['image.origin'] = 'lower'\n",
    "plt.rcParams['xtick.direction'] = 'in'\n",
    "plt.rcParams['ytick.direction'] = 'in'\n"
   ]
  },
  {
   "cell_type": "code",
   "execution_count": 24,
   "id": "3b49c5e5",
   "metadata": {},
   "outputs": [
    {
     "name": "stdout",
     "output_type": "stream",
     "text": [
      "--------START---------\n",
      "Folder:  ngrey_200G\n",
      "Snapshot:  200000\n",
      "Angle:  00\n",
      "-------PREP END--------\n"
     ]
    }
   ],
   "source": [
    "stokes = create_stokes_profiles(\"ngrey_200G\", \"00\", \"200000\", inst=\"onepix\", downscale_mean=False, remainder_mode='round', dshape=288, \\\n",
    "                           pixel_res=20.833333, default_dir=\"/export/local/scratch/sinjan/spinor_fwd\")\n",
    "Ic=stokes[0,0,0,:50].mean()"
   ]
  },
  {
   "cell_type": "code",
   "execution_count": 25,
   "id": "2606468b",
   "metadata": {},
   "outputs": [
    {
     "data": {
      "image/png": "[encoded data removed]",
      "text/plain": [
       "<Figure size 432x288 with 1 Axes>"
      ]
     },
     "metadata": {
      "needs_background": "light"
     },
     "output_type": "display_data"
    }
   ],
   "source": [
    "plt.figure()\n",
    "plt.plot(range(51),stokes[0,0,3,100:151])\n",
    "plt.show()"
   ]
  },
  {
   "cell_type": "code",
   "execution_count": 26,
   "id": "3dd84534",
   "metadata": {},
   "outputs": [],
   "source": [
    "ar_b = spi.simpson(abs(stokes[0,0,3,100:125]/Ic))\n",
    "ar_r = spi.simpson(abs(stokes[0,0,3,125:151]/Ic))\n",
    "area_asym_1 = (ar_b-ar_r)/(ar_b+ar_r)"
   ]
  },
  {
   "cell_type": "code",
   "execution_count": 27,
   "id": "ed5ade48",
   "metadata": {},
   "outputs": [
    {
     "data": {
      "text/plain": [
       "0.04299138"
      ]
     },
     "execution_count": 27,
     "metadata": {},
     "output_type": "execute_result"
    }
   ],
   "source": [
    "amp_b = np.max(stokes[0,0,3,100:151]/Ic)\n",
    "amp_r = abs(np.min(stokes[0,0,3,100:151]/Ic))\n",
    "amp_asym_1 = (amp_b-amp_r)/(amp_b+amp_r)\n",
    "amp_b"
   ]
  },
  {
   "cell_type": "code",
   "execution_count": 28,
   "id": "41598ade",
   "metadata": {},
   "outputs": [
    {
     "data": {
      "text/plain": [
       "0.029625677"
      ]
     },
     "execution_count": 28,
     "metadata": {},
     "output_type": "execute_result"
    }
   ],
   "source": [
    "amp_r"
   ]
  },
  {
   "cell_type": "markdown",
   "id": "e2ba5c0c",
   "metadata": {},
   "source": [
    "# mu=0.9"
   ]
  },
  {
   "cell_type": "code",
   "execution_count": 29,
   "id": "b57497d5",
   "metadata": {},
   "outputs": [
    {
     "name": "stdout",
     "output_type": "stream",
     "text": [
      "--------START---------\n",
      "Folder:  ngrey_200G\n",
      "Snapshot:  200000\n",
      "Angle:  25_9\n",
      "-------PREP END--------\n"
     ]
    }
   ],
   "source": [
    "stokes = create_stokes_profiles(\"ngrey_200G\", \"25_9\", \"200000\", inst=\"onepix\", downscale_mean=False, remainder_mode='round', dshape=288, \\\n",
    "                           pixel_res=20.833333, default_dir=\"/export/local/scratch/sinjan/spinor_fwd\")\n",
    "Ic=stokes[0,0,0,:50].mean()"
   ]
  },
  {
   "cell_type": "code",
   "execution_count": 30,
   "id": "0af32c53",
   "metadata": {},
   "outputs": [
    {
     "data": {
      "image/png": "[encoded data removed]",
      "text/plain": [
       "<Figure size 432x288 with 1 Axes>"
      ]
     },
     "metadata": {
      "needs_background": "light"
     },
     "output_type": "display_data"
    }
   ],
   "source": [
    "plt.figure()\n",
    "plt.plot(range(51),stokes[0,0,3,100:151])\n",
    "plt.show()"
   ]
  },
  {
   "cell_type": "code",
   "execution_count": 31,
   "id": "053644dd",
   "metadata": {},
   "outputs": [],
   "source": [
    "ar_b = spi.simpson(abs(stokes[0,0,3,100:125]/Ic))\n",
    "ar_r = spi.simpson(abs(stokes[0,0,3,125:151]/Ic))\n",
    "area_asym_09 = (ar_b-ar_r)/(ar_b+ar_r)"
   ]
  },
  {
   "cell_type": "code",
   "execution_count": 32,
   "id": "3c2f137b",
   "metadata": {},
   "outputs": [
    {
     "data": {
      "text/plain": [
       "0.04058228"
      ]
     },
     "execution_count": 32,
     "metadata": {},
     "output_type": "execute_result"
    }
   ],
   "source": [
    "amp_b = np.max(stokes[0,0,3,100:151]/Ic)\n",
    "amp_r = abs(np.min(stokes[0,0,3,100:151]/Ic))\n",
    "amp_asym_09 = (amp_b-amp_r)/(amp_b+amp_r)\n",
    "amp_b"
   ]
  },
  {
   "cell_type": "code",
   "execution_count": 33,
   "id": "6cf3e54d",
   "metadata": {},
   "outputs": [
    {
     "data": {
      "text/plain": [
       "0.03213816"
      ]
     },
     "execution_count": 33,
     "metadata": {},
     "output_type": "execute_result"
    }
   ],
   "source": [
    "amp_r"
   ]
  },
  {
   "cell_type": "markdown",
   "id": "1115990b",
   "metadata": {},
   "source": [
    "# mu=0.8"
   ]
  },
  {
   "cell_type": "code",
   "execution_count": 34,
   "id": "214971f2",
   "metadata": {},
   "outputs": [
    {
     "name": "stdout",
     "output_type": "stream",
     "text": [
      "--------START---------\n",
      "Folder:  ngrey_200G\n",
      "Snapshot:  200000\n",
      "Angle:  37\n",
      "-------PREP END--------\n"
     ]
    }
   ],
   "source": [
    "stokes = create_stokes_profiles(\"ngrey_200G\", \"37\", \"200000\", inst=\"onepix\", downscale_mean=False, remainder_mode='round', dshape=288, \\\n",
    "                           pixel_res=20.833333, default_dir=\"/export/local/scratch/sinjan/spinor_fwd\")\n",
    "Ic=stokes[0,0,0,:50].mean()"
   ]
  },
  {
   "cell_type": "code",
   "execution_count": 35,
   "id": "6700dbbf",
   "metadata": {},
   "outputs": [
    {
     "data": {
      "image/png": "[encoded data removed]",
      "text/plain": [
       "<Figure size 432x288 with 1 Axes>"
      ]
     },
     "metadata": {
      "needs_background": "light"
     },
     "output_type": "display_data"
    }
   ],
   "source": [
    "plt.figure()\n",
    "plt.plot(range(51),stokes[0,0,3,100:151])\n",
    "plt.show()"
   ]
  },
  {
   "cell_type": "code",
   "execution_count": 36,
   "id": "77c1dec4",
   "metadata": {},
   "outputs": [],
   "source": [
    "ar_b = spi.simpson(abs(stokes[0,0,3,100:125]/Ic))\n",
    "ar_r = spi.simpson(abs(stokes[0,0,3,125:151]/Ic))\n",
    "area_asym_08 = (ar_b-ar_r)/(ar_b+ar_r)"
   ]
  },
  {
   "cell_type": "code",
   "execution_count": 37,
   "id": "0efb9545",
   "metadata": {},
   "outputs": [
    {
     "data": {
      "text/plain": [
       "0.037180763"
      ]
     },
     "execution_count": 37,
     "metadata": {},
     "output_type": "execute_result"
    }
   ],
   "source": [
    "amp_b = np.max(stokes[0,0,3,100:151]/Ic)\n",
    "amp_r = abs(np.min(stokes[0,0,3,100:151]/Ic))\n",
    "amp_asym_08 = (amp_b-amp_r)/(amp_b+amp_r)\n",
    "amp_b"
   ]
  },
  {
   "cell_type": "code",
   "execution_count": 38,
   "id": "24b8252e",
   "metadata": {},
   "outputs": [
    {
     "data": {
      "text/plain": [
       "0.031598732"
      ]
     },
     "execution_count": 38,
     "metadata": {},
     "output_type": "execute_result"
    }
   ],
   "source": [
    "amp_r"
   ]
  },
  {
   "cell_type": "markdown",
   "id": "f00e4afe",
   "metadata": {},
   "source": [
    "# mu = 0.7"
   ]
  },
  {
   "cell_type": "code",
   "execution_count": 39,
   "id": "747ca512",
   "metadata": {},
   "outputs": [
    {
     "name": "stdout",
     "output_type": "stream",
     "text": [
      "--------START---------\n",
      "Folder:  ngrey_200G\n",
      "Snapshot:  200000\n",
      "Angle:  45_5\n",
      "-------PREP END--------\n"
     ]
    }
   ],
   "source": [
    "stokes = create_stokes_profiles(\"ngrey_200G\", \"45_5\", \"200000\", inst=\"onepix\", downscale_mean=False, remainder_mode='round', dshape=288, \\\n",
    "                           pixel_res=20.833333, default_dir=\"/export/local/scratch/sinjan/spinor_fwd\")\n",
    "Ic=stokes[0,0,0,:50].mean()"
   ]
  },
  {
   "cell_type": "code",
   "execution_count": 40,
   "id": "c99fb5df",
   "metadata": {},
   "outputs": [
    {
     "data": {
      "image/png": "[encoded data removed]",
      "text/plain": [
       "<Figure size 432x288 with 1 Axes>"
      ]
     },
     "metadata": {
      "needs_background": "light"
     },
     "output_type": "display_data"
    }
   ],
   "source": [
    "plt.figure()\n",
    "plt.plot(range(51),stokes[0,0,3,100:151])\n",
    "plt.show()"
   ]
  },
  {
   "cell_type": "code",
   "execution_count": 41,
   "id": "17d30ff0",
   "metadata": {},
   "outputs": [],
   "source": [
    "ar_b = spi.simpson(abs(stokes[0,0,3,100:125]/Ic))\n",
    "ar_r = spi.simpson(abs(stokes[0,0,3,125:151]/Ic))\n",
    "area_asym_07 = (ar_b-ar_r)/(ar_b+ar_r)"
   ]
  },
  {
   "cell_type": "code",
   "execution_count": 42,
   "id": "2cd0da4f",
   "metadata": {},
   "outputs": [],
   "source": [
    "amp_b = np.max(stokes[0,0,3,100:151]/Ic)\n",
    "amp_r = abs(np.min(stokes[0,0,3,100:151]/Ic))\n",
    "amp_asym_07 = (amp_b-amp_r)/(amp_b+amp_r)"
   ]
  },
  {
   "cell_type": "code",
   "execution_count": 43,
   "id": "8ab28e01",
   "metadata": {},
   "outputs": [
    {
     "data": {
      "text/plain": [
       "0.034035936"
      ]
     },
     "execution_count": 43,
     "metadata": {},
     "output_type": "execute_result"
    }
   ],
   "source": [
    "amp_b"
   ]
  },
  {
   "cell_type": "code",
   "execution_count": 44,
   "id": "22534516",
   "metadata": {},
   "outputs": [
    {
     "data": {
      "text/plain": [
       "0.02998137"
      ]
     },
     "execution_count": 44,
     "metadata": {},
     "output_type": "execute_result"
    }
   ],
   "source": [
    "amp_r"
   ]
  },
  {
   "cell_type": "code",
   "execution_count": 23,
   "id": "a10f4166",
   "metadata": {},
   "outputs": [
    {
     "data": {
      "image/png": "[encoded data removed]",
      "text/plain": [
       "<Figure size 432x288 with 1 Axes>"
      ]
     },
     "metadata": {
      "needs_background": "light"
     },
     "output_type": "display_data"
    }
   ],
   "source": [
    "plt.figure()\n",
    "plt.plot([0.7,0.8,0.9,1.0], np.array([area_asym_07,area_asym_08,area_asym_09,area_asym_1])*100, label = 'area')\n",
    "plt.plot([0.7,0.8,0.9,1.0], np.array([amp_asym_07,amp_asym_08,amp_asym_09,amp_asym_1])*100, label = 'amp')\n",
    "plt.plot([0.7,0.8,0.9,1.0], np.array([amp_asym_07,amp_asym_08,amp_asym_09,amp_asym_1])*100+np.array([area_asym_07,area_asym_08,area_asym_09,area_asym_1])*100, label='sum')\n",
    "plt.xlim(1.05,0.6)\n",
    "plt.legend()\n",
    "plt.ylabel(\"Asym [%]\")\n",
    "plt.show()"
   ]
  },
  {
   "cell_type": "code",
   "execution_count": null,
   "id": "aa6ac3e6",
   "metadata": {},
   "outputs": [],
   "source": []
  }
 ],
 "metadata": {
  "kernelspec": {
   "display_name": "dataproc",
   "language": "python",
   "name": "dataproc"
  },
  "language_info": {
   "codemirror_mode": {
    "name": "ipython",
    "version": 3
   },
   "file_extension": ".py",
   "mimetype": "text/x-python",
   "name": "python",
   "nbconvert_exporter": "python",
   "pygments_lexer": "ipython3",
   "version": "3.7.0"
  }
 },
 "nbformat": 4,
 "nbformat_minor": 5
}
