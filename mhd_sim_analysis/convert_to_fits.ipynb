{
 "cells": [
  {
   "cell_type": "code",
   "execution_count": 1,
   "metadata": {},
   "outputs": [],
   "source": [
    "import numpy as np\n",
    "import struct\n",
    "from astropy.io import fits"
   ]
  },
  {
   "cell_type": "code",
   "execution_count": 2,
   "metadata": {},
   "outputs": [],
   "source": [
    "class MURaM_snapshot:\n",
    "    def __init__(self,sim_dir,sim_iter):\n",
    "        #This reads in the new muram format (zxy) and transposes it to xyz\n",
    "        self.sim_iter=sim_iter\n",
    "        \n",
    "        header = np.loadtxt(sim_dir+'Header.'+str(sim_iter).zfill(6))\n",
    "                        \n",
    "        self.nz = np.int32(header[0])\n",
    "        self.nx = np.int32(header[1])\n",
    "        self.ny = np.int32(header[2])   \n",
    "        \n",
    "        self.dz = np.float64(header[3])\n",
    "        self.dx = np.float64(header[4])\n",
    "        self.dy = np.float64(header[5]) \n",
    "        \n",
    "        self.time = np.float64(header[6])\n",
    "        self.dt = np.float64(header[7])\n",
    "        self.maxva = np.float64(header[8])\n",
    "        \n",
    "        self.xax = np.arange(self.nx,dtype=np.float64)*self.dx\n",
    "        self.yax = np.arange(self.ny,dtype=np.float64)*self.dy\n",
    "        self.zax = np.arange(self.nz,dtype=np.float64)*self.dz\n",
    "    \n",
    "        self.tem = np.memmap(sim_dir + 'eosT.' +str(self.sim_iter).zfill(6),dtype=np.float32,mode='r',shape=(self.ny,self.nx,self.nz)).swapaxes(0,1)\n",
    "        self.pre = np.memmap(sim_dir + 'eosP.' +str(self.sim_iter).zfill(6),dtype=np.float32,mode='r',shape=(self.ny,self.nx,self.nz)).swapaxes(0,1)\n",
    "        self.rho = np.memmap(sim_dir + 'result_prim_0.' +str(self.sim_iter).zfill(6),dtype=np.float32,mode='r',shape=(self.ny,self.nx,self.nz)).swapaxes(0,1)\n",
    "        self.vz = np.memmap(sim_dir + 'result_prim_1.' +str(self.sim_iter).zfill(6),dtype=np.float32,mode='r',shape=(self.ny,self.nx,self.nz)).swapaxes(0,1)\n",
    "        self.vx = np.memmap(sim_dir + 'result_prim_2.' +str(self.sim_iter).zfill(6),dtype=np.float32,mode='r',shape=(self.ny,self.nx,self.nz)).swapaxes(0,1)\n",
    "        self.vy = np.memmap(sim_dir + 'result_prim_3.' +str(self.sim_iter).zfill(6),dtype=np.float32,mode='r',shape=(self.ny,self.nx,self.nz)).swapaxes(0,1)\n",
    "        self._4 = np.memmap(sim_dir + 'result_prim_4.' +str(self.sim_iter).zfill(6),dtype=np.float32,mode='r',shape=(self.ny,self.nx,self.nz)).swapaxes(0,1)\n",
    "        self.bz = np.memmap(sim_dir + 'result_prim_5.' +str(self.sim_iter).zfill(6),dtype=np.float32,mode='r',shape=(self.ny,self.nx,self.nz)).swapaxes(0,1)\n",
    "        self.bx = np.memmap(sim_dir + 'result_prim_6.' +str(self.sim_iter).zfill(6),dtype=np.float32,mode='r',shape=(self.ny,self.nx,self.nz)).swapaxes(0,1)\n",
    "        self.by = np.memmap(sim_dir + 'result_prim_7.' +str(self.sim_iter).zfill(6),dtype=np.float32,mode='r',shape=(self.ny,self.nx,self.nz)).swapaxes(0,1)\n",
    "    \n",
    "    def write_spinor_style(self,out_dir):\n",
    "        hdr = fits.Header()\n",
    "        hdr['NAXIS1']=self.nx, ' length of data axis 1'\n",
    "        hdr['NAXIS2']=self.nz, ' length of data axis 2'\n",
    "        hdr['NAXIS3']=self.ny, ' length of data axis 3'\n",
    "        hdr['T_X']=np.float32(self.nx*self.dx), ' Total x (vertical) size [cm]'\n",
    "        hdr['T_Y']=np.float32(self.nz*self.dz), ' Total y (vertical) size [cm]'\n",
    "        hdr['T_Z']=np.float32(self.ny*self.dy), ' Total z (vertical) size [cm]'\n",
    "        hdr['TIME']=self.time, ' Time [sec]'\n",
    "        hdr['DESC']='I like Turtles', ' Descriptive comment'\n",
    "        \n",
    "        ## Temperature\n",
    "        fits.writeto(out_dir+\"eosT.\"+str(self.sim_iter).zfill(6)+\".fits\", self.tem.swapaxes(1,2), hdr, overwrite = True)\n",
    "        ## Pressure\n",
    "        fits.writeto(out_dir+\"eosP.\"+str(self.sim_iter).zfill(6)+\".fits\", self.pre.swapaxes(1,2), hdr, overwrite = True)\n",
    "        ## Density\n",
    "        fits.writeto(out_dir+\"result_0.\"+str(self.sim_iter).zfill(6)+\".fits\", self.rho.swapaxes(1,2), hdr, overwrite = True)\n",
    "        ## M_x\n",
    "        fits.writeto(out_dir+\"result_1.\"+str(self.sim_iter).zfill(6)+\".fits\", (self.vx*self.rho).swapaxes(1,2), hdr, overwrite = True)\n",
    "        ## M_z - vertical\n",
    "        fits.writeto(out_dir+\"result_2.\"+str(self.sim_iter).zfill(6)+\".fits\", (self.vz*self.rho).swapaxes(1,2), hdr, overwrite = True)\n",
    "        ## M_y\n",
    "        fits.writeto(out_dir+\"result_3.\"+str(self.sim_iter).zfill(6)+\".fits\", (self.vy*self.rho).swapaxes(1,2), hdr, overwrite = True)\n",
    "        ## Don't need Energy\n",
    "        #Etot =  (self.eps+0.5*self.rho*(self.vz*self.vz+self.vz*self.vz+self.vy*self.vy)+0.5*(self.bz*self.bz+self.bx*self.bx+self.by*self.by))\n",
    "        fits.writeto(out_dir+\"result_4.\"+str(self.sim_iter).zfill(6)+\".fits\",self._4.swapaxes(1,2), hdr, overwrite = True)\n",
    "        ## B_x\n",
    "        fits.writeto(out_dir+\"result_5.\"+str(self.sim_iter).zfill(6)+\".fits\", self.bx.swapaxes(1,2), hdr, overwrite = True)\n",
    "        ## B_z -vertical\n",
    "        fits.writeto(out_dir+\"result_6.\"+str(self.sim_iter).zfill(6)+\".fits\", self.bz.swapaxes(1,2), hdr, overwrite = True)\n",
    "        ## B_y\n",
    "        fits.writeto(out_dir+\"result_7.\"+str(self.sim_iter).zfill(6)+\".fits\", self.by.swapaxes(1,2), hdr, overwrite = True)\n",
    "        "
   ]
  },
  {
   "cell_type": "code",
   "execution_count": 3,
   "metadata": {},
   "outputs": [],
   "source": [
    "sim_dir = '/data/bhatia/jonas/G_100/3D/'#'/ptmp/damp/jonas_runs/100G_v2/3D/'\n",
    "out_dir = '/data/slam/sinjan/tanay_cubes/100G/'\n",
    "snapshot = MURaM_snapshot(sim_dir,'059932')\n",
    "snapshot.write_spinor_style(out_dir)"
   ]
  },
  {
   "cell_type": "code",
   "execution_count": 3,
   "metadata": {},
   "outputs": [],
   "source": [
    "sim_dir = '/data/bhatia/jonas/G_30/3D/'\n",
    "out_dir = '/data/slam/sinjan/tanay_cubes/30G/'\n",
    "sim_list = ['079245','081486','083742','086038','088303','090538','092779','095011','097188','099413','101564','103737']\n",
    "for sim in sim_list:\n",
    "    snapshot = MURaM_snapshot(sim_dir,sim)\n",
    "    snapshot.write_spinor_style(out_dir)"
   ]
  },
  {
   "cell_type": "code",
   "execution_count": 3,
   "metadata": {},
   "outputs": [],
   "source": [
    "sim_dir = '/data/bhatia/jonas/G_100/3D/'\n",
    "out_dir = '/data/slam/sinjan/tanay_cubes/100G/'\n",
    "sim_list = ['062302','064671','067043','069447','071858','074219','076639','079042','081434','083791','086170','088576']\n",
    "for sim in sim_list:\n",
    "    snapshot = MURaM_snapshot(sim_dir,sim)\n",
    "    snapshot.write_spinor_style(out_dir)"
   ]
  },
  {
   "cell_type": "code",
   "execution_count": 3,
   "metadata": {},
   "outputs": [],
   "source": [
    "sim_dir = '/data/bhatia/jonas/G_200/3D/'\n",
    "out_dir = '/data/slam/sinjan/tanay_cubes/200G/'\n",
    "sim_list = ['459704','462122','464531','466962','469389','471811','474220','476643','479085','481513','483915','486360']\n",
    "for sim in sim_list:\n",
    "    snapshot = MURaM_snapshot(sim_dir,sim)\n",
    "    snapshot.write_spinor_style(out_dir)"
   ]
  },
  {
   "cell_type": "code",
   "execution_count": 4,
   "metadata": {},
   "outputs": [],
   "source": [
    "#missed one\n",
    "sim_dir = '/data/bhatia/jonas/G_200/3D/'\n",
    "out_dir = '/data/slam/sinjan/tanay_cubes/200G/'\n",
    "sim = '469389'\n",
    "snapshot = MURaM_snapshot(sim_dir,sim)\n",
    "snapshot.write_spinor_style(out_dir)"
   ]
  },
  {
   "cell_type": "code",
   "execution_count": 4,
   "metadata": {},
   "outputs": [],
   "source": [
    "bz = fits.getdata('/data/slam/sinjan/tanay_cubes/100G/result_6.059932.fits')"
   ]
  },
  {
   "cell_type": "code",
   "execution_count": 5,
   "metadata": {},
   "outputs": [
    {
     "data": {
      "text/plain": [
       "100.00024057678782"
      ]
     },
     "execution_count": 5,
     "metadata": {},
     "output_type": "execute_result"
    }
   ],
   "source": [
    "np.mean(bz)*np.sqrt(4*np.pi)"
   ]
  },
  {
   "cell_type": "code",
   "execution_count": 6,
   "metadata": {},
   "outputs": [
    {
     "name": "stdout",
     "output_type": "stream",
     "text": [
      "-8.40634298644435\n"
     ]
    }
   ],
   "source": [
    "bz = fits.getdata('/data/slam/sinjan/tanay_cubes/100G/result_5.059932.fits')\n",
    "print(np.mean(bz)*np.sqrt(4*np.pi))"
   ]
  },
  {
   "cell_type": "code",
   "execution_count": 7,
   "metadata": {},
   "outputs": [
    {
     "name": "stdout",
     "output_type": "stream",
     "text": [
      "4.949662774818116\n"
     ]
    }
   ],
   "source": [
    "bz = fits.getdata('/data/slam/sinjan/tanay_cubes/100G/result_7.059932.fits')\n",
    "print(np.mean(bz)*np.sqrt(4*np.pi))"
   ]
  },
  {
   "cell_type": "code",
   "execution_count": 19,
   "metadata": {},
   "outputs": [],
   "source": [
    "sim_dir = '/data/sun/przybylski/tino_restart_forjonas_10hr/100G_restart/100G_v2/3D/'#'/ptmp/damp/jonas_runs/100G_v2/3D/'\n",
    "out_dir = '/data/slam/sinjan/tino_restart/100G/'\n",
    "snapshot = MURaM_snapshot(sim_dir,202000)\n",
    "snapshot.write_spinor_style(out_dir)"
   ]
  },
  {
   "cell_type": "code",
   "execution_count": 27,
   "metadata": {},
   "outputs": [],
   "source": [
    "sim_list = [203000,204000,205000,206000,207000,208000,209000,210000,212000,213000,214000,215000,216000,217000,218000,219000,220000]\n",
    "for sim in sim_list:\n",
    "    snapshot = MURaM_snapshot(sim_dir,sim)\n",
    "    snapshot.write_spinor_style(out_dir)"
   ]
  },
  {
   "cell_type": "code",
   "execution_count": 24,
   "metadata": {},
   "outputs": [],
   "source": [
    "bz = fits.getdata('/data/slam/sinjan/tino_restart/100G/result_6.202000.fits')"
   ]
  },
  {
   "cell_type": "code",
   "execution_count": 26,
   "metadata": {},
   "outputs": [
    {
     "data": {
      "text/plain": [
       "99.99997012179347"
      ]
     },
     "execution_count": 26,
     "metadata": {},
     "output_type": "execute_result"
    }
   ],
   "source": [
    "np.mean(bz)*np.sqrt(4*np.pi)"
   ]
  },
  {
   "cell_type": "code",
   "execution_count": 28,
   "metadata": {},
   "outputs": [],
   "source": [
    "bz = fits.getdata('/data/slam/sinjan/tino_restart/100G/result_6.220000.fits')"
   ]
  },
  {
   "cell_type": "code",
   "execution_count": 29,
   "metadata": {},
   "outputs": [
    {
     "data": {
      "text/plain": [
       "99.99999040591804"
      ]
     },
     "execution_count": 29,
     "metadata": {},
     "output_type": "execute_result"
    }
   ],
   "source": [
    "np.mean(bz)*np.sqrt(4*np.pi)"
   ]
  },
  {
   "cell_type": "code",
   "execution_count": null,
   "metadata": {},
   "outputs": [],
   "source": [
    "#120G restart"
   ]
  },
  {
   "cell_type": "code",
   "execution_count": 3,
   "metadata": {},
   "outputs": [],
   "source": [
    "sim_dir = '/data/sun/przybylski/tino_restart_forjonas_10hr/120G_restart/120G/3D/'#'/ptmp/damp/jonas_runs/100G_v2/3D/'\n",
    "out_dir = '/data/slam/sinjan/tino_restart/120G/'\n",
    "# snapshot = MURaM_snapshot(sim_dir,202000)\n",
    "# snapshot.write_spinor_style(out_dir)"
   ]
  },
  {
   "cell_type": "code",
   "execution_count": 4,
   "metadata": {},
   "outputs": [],
   "source": [
    "sim_list = [202000,203000,204000,205000,206000,207000,208000,209000,210000,212000,213000,214000,215000,216000,217000,218000,219000,220000]\n",
    "for sim in sim_list:\n",
    "    snapshot = MURaM_snapshot(sim_dir,sim)\n",
    "    snapshot.write_spinor_style(out_dir)"
   ]
  },
  {
   "cell_type": "code",
   "execution_count": 6,
   "metadata": {},
   "outputs": [
    {
     "data": {
      "text/plain": [
       "120.00000200985137"
      ]
     },
     "execution_count": 6,
     "metadata": {},
     "output_type": "execute_result"
    }
   ],
   "source": [
    "bz = fits.getdata('/data/slam/sinjan/tino_restart/120G/result_6.210000.fits')\n",
    "np.mean(bz)*np.sqrt(4*np.pi)"
   ]
  },
  {
   "cell_type": "code",
   "execution_count": 8,
   "metadata": {},
   "outputs": [
    {
     "data": {
      "text/plain": [
       "5.139954908835621"
      ]
     },
     "execution_count": 8,
     "metadata": {},
     "output_type": "execute_result"
    }
   ],
   "source": [
    "bx = fits.getdata('/data/slam/sinjan/tino_restart/120G/result_5.210000.fits')\n",
    "np.mean(bx)*np.sqrt(4*np.pi)"
   ]
  },
  {
   "cell_type": "code",
   "execution_count": 13,
   "metadata": {},
   "outputs": [
    {
     "data": {
      "text/plain": [
       "1.3649787498864108"
      ]
     },
     "execution_count": 13,
     "metadata": {},
     "output_type": "execute_result"
    }
   ],
   "source": [
    "bx = fits.getdata('/data/sunrise/mhd/MURaM/MySimulations/MURaM_RUN_1/20161029.100G.ngrey.288x100x288/result_5.160000.fits')\n",
    "np.mean(bx)*np.sqrt(4*np.pi)"
   ]
  },
  {
   "cell_type": "code",
   "execution_count": null,
   "metadata": {},
   "outputs": [],
   "source": []
  }
 ],
 "metadata": {
  "kernelspec": {
   "display_name": "Python 3 (ipykernel)",
   "language": "python",
   "name": "python3"
  },
  "language_info": {
   "codemirror_mode": {
    "name": "ipython",
    "version": 3
   },
   "file_extension": ".py",
   "mimetype": "text/x-python",
   "name": "python",
   "nbconvert_exporter": "python",
   "pygments_lexer": "ipython3",
   "version": "3.8.18"
  }
 },
 "nbformat": 4,
 "nbformat_minor": 4
}
