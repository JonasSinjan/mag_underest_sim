{
 "cells": [
  {
   "cell_type": "markdown",
   "id": "910b8c1f-6f62-4d2a-8df9-a0ded93bb713",
   "metadata": {},
   "source": [
    "# Solar Time"
   ]
  },
  {
   "cell_type": "code",
   "execution_count": 3,
   "id": "ac0c219c-27f9-40e7-abc6-95144244e30d",
   "metadata": {},
   "outputs": [],
   "source": [
    "import numpy as np"
   ]
  },
  {
   "cell_type": "code",
   "execution_count": 34,
   "id": "8ac0efb3-67c1-4013-95ff-33efae64df30",
   "metadata": {},
   "outputs": [],
   "source": [
    "s_200 = [200000] + np.arange(201000,219001,1500).tolist()\n",
    "s_120 = [200000,202000,203000,204000,205000,206000,207000,208000,209000,210000,212000,213000,214000,215000,216000,217000,218000,219000,220000]\n",
    "s_100 = [200000,202000,203000,204000,205000,206000,207000,208000,209000,210000,212000,213000,214000,215000,216000,217000,218000,219000,220000]\n",
    "s_50 = [200000] + np.arange(201000,228001,1500).tolist()\n",
    "s_30 = [200000] + np.arange(201000,228001,1500).tolist()"
   ]
  },
  {
   "cell_type": "code",
   "execution_count": 3,
   "id": "22e1199d-e4f8-44f2-a7b4-7f3a2b314fd0",
   "metadata": {},
   "outputs": [
    {
     "data": {
      "text/plain": [
       "[200000,\n",
       " 201000,\n",
       " 202500,\n",
       " 204000,\n",
       " 205500,\n",
       " 207000,\n",
       " 208500,\n",
       " 210000,\n",
       " 211500,\n",
       " 213000,\n",
       " 214500,\n",
       " 216000,\n",
       " 217500,\n",
       " 219000,\n",
       " 220500,\n",
       " 222000,\n",
       " 223500,\n",
       " 225000,\n",
       " 226500,\n",
       " 228000]"
      ]
     },
     "execution_count": 3,
     "metadata": {},
     "output_type": "execute_result"
    }
   ],
   "source": [
    "s_30"
   ]
  },
  {
   "cell_type": "code",
   "execution_count": 43,
   "id": "6b065585-e01f-40d1-b87c-b2ecbe98f2fe",
   "metadata": {},
   "outputs": [],
   "source": [
    "solar_time_30 =  np.array([65201.65266, 65435.77086, 65753.62258, 66048.60092, 66353.54135, \\\n",
    "                           66654.06231,66946.93533,67263.13462,67561.38728,67865.81313,68155.12146, \\\n",
    "                          68464.44211,68791.25731, 69099.45867,69415.71192,69740.24136,70051.72283,\\\n",
    "                          70400.00559,70725.78341,71025.90899 ])"
   ]
  },
  {
   "cell_type": "code",
   "execution_count": 44,
   "id": "a2e658f1-503a-4991-80f1-a35ff3fb97fb",
   "metadata": {},
   "outputs": [],
   "source": [
    "test = solar_time_30 - 65201.65266"
   ]
  },
  {
   "cell_type": "code",
   "execution_count": 45,
   "id": "b77c1566-12c0-4e4d-8720-0466488a1113",
   "metadata": {},
   "outputs": [
    {
     "data": {
      "text/plain": [
       "array([ 0.        ,  3.90197   ,  9.19949867, 14.11580433, 19.19814483,\n",
       "       24.2068275 , 29.0880445 , 34.35803267, 39.32891033, 44.4026745 ,\n",
       "       49.22448   , 54.37982417, 59.82674417, 64.9634335 , 70.234321  ,\n",
       "       75.643145  , 80.83450283, 86.6392155 , 92.06884583, 97.07093883])"
      ]
     },
     "execution_count": 45,
     "metadata": {},
     "output_type": "execute_result"
    }
   ],
   "source": [
    "test/60"
   ]
  },
  {
   "cell_type": "code",
   "execution_count": 60,
   "id": "64feae1e-c3e4-4b97-8ad5-f234770fadfd",
   "metadata": {},
   "outputs": [
    {
     "data": {
      "text/plain": [
       "array([3.9, 5.3, 4.9, 5.1, 5. , 4.9, 5.3, 5. , 5.1, 4.8, 5.2, 5.4, 5.1,\n",
       "       5.3, 5.4, 5.2, 5.8, 5.4, 5. ])"
      ]
     },
     "execution_count": 60,
     "metadata": {},
     "output_type": "execute_result"
    }
   ],
   "source": [
    "np.around(np.diff(test/60),decimals=1)"
   ]
  },
  {
   "cell_type": "code",
   "execution_count": 16,
   "id": "244e214e-7873-4e3e-a533-66187f5797c7",
   "metadata": {},
   "outputs": [
    {
     "data": {
      "text/plain": [
       "5.108996780701752"
      ]
     },
     "execution_count": 16,
     "metadata": {},
     "output_type": "execute_result"
    }
   ],
   "source": [
    "np.mean(np.diff(test/60))"
   ]
  },
  {
   "cell_type": "code",
   "execution_count": 17,
   "id": "3dd0603c-d23b-4a8a-8b91-2879db98f00a",
   "metadata": {},
   "outputs": [
    {
     "data": {
      "text/plain": [
       "0.3670085640387259"
      ]
     },
     "execution_count": 17,
     "metadata": {},
     "output_type": "execute_result"
    }
   ],
   "source": [
    "np.std(np.diff(test/60))"
   ]
  },
  {
   "cell_type": "code",
   "execution_count": 49,
   "id": "70f8eb6e-ef1d-48ab-91c0-ab5f827926c0",
   "metadata": {},
   "outputs": [],
   "source": [
    "solar_time_50 =  np.array([63160.95925,63360.73656,63648.35059,63945.89133,64231.39668,64512.54837,\\\n",
    "                          64802.45891, 65079.71999, 65353.28023,65633.08881,65931.05376,66230.90372,66512.92356,\\\n",
    "                          66802.14607, 67087.88783, 67372.30172, 67654.43993, 67954.22947, 68251.23911, 68525.62667])"
   ]
  },
  {
   "cell_type": "code",
   "execution_count": 50,
   "id": "7dae0789-55ab-43c4-82fb-ede61ab06207",
   "metadata": {},
   "outputs": [],
   "source": [
    "test50 = solar_time_50 - 63160.95925"
   ]
  },
  {
   "cell_type": "code",
   "execution_count": 51,
   "id": "af482633-f030-4480-b703-ab6d7f84749c",
   "metadata": {},
   "outputs": [
    {
     "data": {
      "text/plain": [
       "array([ 0.        ,  3.32962183,  8.123189  , 13.08220133, 17.84062383,\n",
       "       22.52648533, 27.35832767, 31.97934567, 36.538683  , 41.20215933,\n",
       "       46.16824183, 51.16574117, 55.86607183, 60.686447  , 65.44880967,\n",
       "       70.18904117, 74.89134467, 79.887837  , 84.83799767, 89.41112367])"
      ]
     },
     "execution_count": 51,
     "metadata": {},
     "output_type": "execute_result"
    }
   ],
   "source": [
    "test50/60"
   ]
  },
  {
   "cell_type": "code",
   "execution_count": 59,
   "id": "37ca0a3c-f318-47aa-9687-363aa296595b",
   "metadata": {},
   "outputs": [
    {
     "data": {
      "text/plain": [
       "array([3.3, 4.8, 5. , 4.8, 4.7, 4.8, 4.6, 4.6, 4.7, 5. , 5. , 4.7, 4.8,\n",
       "       4.8, 4.7, 4.7, 5. , 5. , 4.6])"
      ]
     },
     "execution_count": 59,
     "metadata": {},
     "output_type": "execute_result"
    }
   ],
   "source": [
    "np.around(np.diff(test50/60),decimals=1)"
   ]
  },
  {
   "cell_type": "code",
   "execution_count": 30,
   "id": "b9e41711-7766-49be-ac3e-37d71253a80a",
   "metadata": {},
   "outputs": [
    {
     "data": {
      "text/plain": [
       "4.7058486140350855"
      ]
     },
     "execution_count": 30,
     "metadata": {},
     "output_type": "execute_result"
    }
   ],
   "source": [
    "np.mean(np.diff(test50/60))"
   ]
  },
  {
   "cell_type": "code",
   "execution_count": 31,
   "id": "66bae8e6-19a4-44dc-9ea0-ea8b805e608f",
   "metadata": {},
   "outputs": [
    {
     "data": {
      "text/plain": [
       "0.3514912821788088"
      ]
     },
     "execution_count": 31,
     "metadata": {},
     "output_type": "execute_result"
    }
   ],
   "source": [
    "np.std(np.diff(test50/60))"
   ]
  },
  {
   "cell_type": "code",
   "execution_count": null,
   "id": "60e87d4b-cef1-4538-adde-762640495b48",
   "metadata": {},
   "outputs": [],
   "source": [
    "# 100G restart is every 7 minutes, most likely so is the 120G, but cannot check as no anls.dat file, maybe need to read in the headers"
   ]
  },
  {
   "cell_type": "code",
   "execution_count": 36,
   "id": "9a167d47-34ac-44ce-81cb-7dc99d2b78b9",
   "metadata": {},
   "outputs": [
    {
     "name": "stdout",
     "output_type": "stream",
     "text": [
      "455.792187\n",
      "677.146542\n",
      "913.504394\n",
      "1137.084033\n",
      "1365.557079\n",
      "1595.596883\n",
      "1822.100988\n",
      "2048.169563\n",
      "2270.822862\n",
      "2707.258905\n",
      "2923.861287\n",
      "3144.724012\n",
      "3363.961751\n",
      "3580.009757\n",
      "3802.022837\n",
      "4022.66476\n",
      "4245.506356\n",
      "4477.177629\n"
     ]
    }
   ],
   "source": [
    "sim_dir = '/data/sun/przybylski/tino_restart_forjonas_10hr/100G_restart/100G_v2/3D/'\n",
    "times = []\n",
    "for i in s_100[1:]:\n",
    "    header = np.loadtxt(sim_dir + f'Header.{i}')\n",
    "    print(header[6])\n",
    "    times.append(header[6])"
   ]
  },
  {
   "cell_type": "code",
   "execution_count": 53,
   "id": "b0e91eb3-b1a4-4afc-9de6-66bbc870a839",
   "metadata": {},
   "outputs": [
    {
     "data": {
      "text/plain": [
       "array([3.8, 3.8, 3.8, 3.7, 3.6, 3.6, 3.7, 3.6, 7.2, 3.8, 3.8, 3.8, 3.8,\n",
       "       3.6, 3.6, 3.6, 3.7])"
      ]
     },
     "execution_count": 53,
     "metadata": {},
     "output_type": "execute_result"
    }
   ],
   "source": [
    "times = np.array(times)\n",
    "np.around(np.diff(times/60),decimals=1)"
   ]
  },
  {
   "cell_type": "code",
   "execution_count": 41,
   "id": "1bf7050b-5202-44b5-af3d-97b7bcfc6cc2",
   "metadata": {},
   "outputs": [
    {
     "name": "stdout",
     "output_type": "stream",
     "text": [
      "434.087007\n",
      "661.504363\n",
      "887.258673\n",
      "1116.255589\n",
      "1337.612335\n",
      "1551.005529\n",
      "1768.042025\n",
      "1988.417825\n",
      "2202.258383\n",
      "2637.144848\n",
      "2864.198852\n",
      "3090.896415\n",
      "3321.07604\n",
      "3547.263874\n",
      "3763.583533\n",
      "3980.819319\n",
      "4199.484975\n",
      "4420.521394\n"
     ]
    }
   ],
   "source": [
    "sim_dir = '/data/sun/przybylski/tino_restart_forjonas_10hr/120G_restart/120G/3D/'\n",
    "times = []\n",
    "for i in s_120[1:]:\n",
    "    header = np.loadtxt(sim_dir + f'Header.{i}')\n",
    "    print(header[6])\n",
    "    times.append(header[6])"
   ]
  },
  {
   "cell_type": "code",
   "execution_count": 42,
   "id": "d08e8be8-c5e3-4539-9a9a-65c3891292bb",
   "metadata": {},
   "outputs": [
    {
     "data": {
      "text/plain": [
       "array([3.79028927, 3.76257183, 3.81661527, 3.6892791 , 3.55655323,\n",
       "       3.61727493, 3.67293   , 3.5640093 , 7.24810775, 3.7842334 ,\n",
       "       3.77829272, 3.83632708, 3.76979723, 3.60532765, 3.62059643,\n",
       "       3.6444276 , 3.68394032])"
      ]
     },
     "execution_count": 42,
     "metadata": {},
     "output_type": "execute_result"
    }
   ],
   "source": [
    "times = np.array(times)\n",
    "np.diff(times/60)"
   ]
  },
  {
   "cell_type": "code",
   "execution_count": 33,
   "id": "c62568a7-c2a7-40c0-bff9-62957e4f39e1",
   "metadata": {},
   "outputs": [
    {
     "data": {
      "text/plain": [
       "[200000,\n",
       " 201000,\n",
       " 202500,\n",
       " 204000,\n",
       " 205500,\n",
       " 207000,\n",
       " 208500,\n",
       " 210000,\n",
       " 211500,\n",
       " 213000,\n",
       " 214500,\n",
       " 216000,\n",
       " 217500,\n",
       " 219000]"
      ]
     },
     "execution_count": 33,
     "metadata": {},
     "output_type": "execute_result"
    }
   ],
   "source": [
    "s_200"
   ]
  },
  {
   "cell_type": "code",
   "execution_count": 54,
   "id": "9cd91fed-1514-4180-90dc-adbfd9014d8a",
   "metadata": {},
   "outputs": [],
   "source": [
    "solar_time_200 =  np.array([61965.68342,62143.37903,62411.03944,62676.61265,62948.42949,63221.84556,63488.60674,\\\n",
    "                           63766.42989,64041.23195,64310.45527,64579.56043,64848.59974,65118.31854,65392.06307])"
   ]
  },
  {
   "cell_type": "code",
   "execution_count": 55,
   "id": "85ddac74-3561-4160-9dbe-5a63d08cce0f",
   "metadata": {},
   "outputs": [],
   "source": [
    "test200 = solar_time_200 - 61965.68342"
   ]
  },
  {
   "cell_type": "code",
   "execution_count": 56,
   "id": "3724aed9-a704-489c-ac81-b1dec9769691",
   "metadata": {},
   "outputs": [
    {
     "data": {
      "text/plain": [
       "array([ 0.        ,  2.9615935 ,  7.42260033, 11.8488205 , 16.37910117,\n",
       "       20.93603567, 25.38205533, 30.01244117, 34.5924755 , 39.07953083,\n",
       "       43.56461683, 48.04860533, 52.54391867, 57.1063275 ])"
      ]
     },
     "execution_count": 56,
     "metadata": {},
     "output_type": "execute_result"
    }
   ],
   "source": [
    "test200/60"
   ]
  },
  {
   "cell_type": "code",
   "execution_count": 58,
   "id": "af6d5c16-baa6-483f-af7e-0c7ccf4a812d",
   "metadata": {},
   "outputs": [
    {
     "data": {
      "text/plain": [
       "array([2.96, 4.46, 4.43, 4.53, 4.56, 4.45, 4.63, 4.58, 4.49, 4.49, 4.48,\n",
       "       4.5 , 4.56])"
      ]
     },
     "execution_count": 58,
     "metadata": {},
     "output_type": "execute_result"
    }
   ],
   "source": [
    "np.around(np.diff(test200/60),decimals=2)"
   ]
  },
  {
   "cell_type": "code",
   "execution_count": 43,
   "id": "7f0cfd1e-b299-447c-aa79-7abe9e2ebc40",
   "metadata": {},
   "outputs": [
    {
     "data": {
      "text/plain": [
       "4.392794423076917"
      ]
     },
     "execution_count": 43,
     "metadata": {},
     "output_type": "execute_result"
    }
   ],
   "source": [
    "np.mean(np.diff(test200/60))"
   ]
  },
  {
   "cell_type": "code",
   "execution_count": 44,
   "id": "bd125a27-1306-4869-8668-496612ba3d6c",
   "metadata": {},
   "outputs": [
    {
     "data": {
      "text/plain": [
       "0.416883169894275"
      ]
     },
     "execution_count": 44,
     "metadata": {},
     "output_type": "execute_result"
    }
   ],
   "source": [
    "np.std(np.diff(test200/60))"
   ]
  },
  {
   "cell_type": "code",
   "execution_count": 46,
   "id": "9e61d764-de87-465d-b8ef-225b35d67426",
   "metadata": {},
   "outputs": [
    {
     "data": {
      "text/plain": [
       "17.21268983888889"
      ]
     },
     "execution_count": 46,
     "metadata": {},
     "output_type": "execute_result"
    }
   ],
   "source": [
    "61965.68342/60/60"
   ]
  },
  {
   "cell_type": "code",
   "execution_count": 1,
   "id": "cf8b0a5e-d9b8-4c25-be5d-42353eec5adb",
   "metadata": {},
   "outputs": [],
   "source": [
    "# check tanayveer's cubes"
   ]
  },
  {
   "cell_type": "code",
   "execution_count": 22,
   "id": "3aa2c021-8b8c-4f18-8537-633f38dbe67a",
   "metadata": {},
   "outputs": [],
   "source": [
    "sim_dir = '/data/bhatia/jonas/G_30/3D/'\n",
    "siter= ['079245','081486','083742','086038','088303','090538','092779','095011','097188','099413','101564','103737']\n",
    "head = np.memmap(sim_dir + 'Header.079245',mode='r',dtype=np.int16)"
   ]
  },
  {
   "cell_type": "code",
   "execution_count": 23,
   "id": "4af03cea-aa65-47b1-a261-3a8aa89e1667",
   "metadata": {},
   "outputs": [
    {
     "data": {
      "text/plain": [
       "memmap([12341,  8240, 13600, 12849,  8224, 12597,  8242, 12576, 12336,\n",
       "        12336, 12336, 12334, 12336, 12336,  8240, 12576, 13623, 14391,\n",
       "        12849, 13614, 12336, 12336,  8240, 12576, 13623, 14391, 12849,\n",
       "        13614, 12336, 12336,  8240, 12576, 13363, 12340, 12334, 12336,\n",
       "        12336,  8240, 12320, 12334, 13616, 13617,  8248, 12576, 12336,\n",
       "        12336, 12336, 11824, 12336, 12336, 12336], dtype=int16)"
      ]
     },
     "execution_count": 23,
     "metadata": {},
     "output_type": "execute_result"
    }
   ],
   "source": [
    "head"
   ]
  },
  {
   "cell_type": "code",
   "execution_count": 24,
   "id": "71392887-0343-4b8e-8598-d80ba9f4840b",
   "metadata": {},
   "outputs": [],
   "source": [
    "header = "
   ]
  },
  {
   "cell_type": "code",
   "execution_count": 28,
   "id": "8dbb4119-d1c7-4ddf-a7a7-70885640cf1e",
   "metadata": {},
   "outputs": [
    {
     "data": {
      "text/plain": [
       "13440.0"
      ]
     },
     "execution_count": 28,
     "metadata": {},
     "output_type": "execute_result"
    }
   ],
   "source": [
    "header[6]"
   ]
  },
  {
   "cell_type": "code",
   "execution_count": 29,
   "id": "f9a4678f-464e-43bb-a2f2-dff8cfb45022",
   "metadata": {},
   "outputs": [
    {
     "name": "stdout",
     "output_type": "stream",
     "text": [
      "13440.0\n",
      "13740.0\n",
      "14040.0\n",
      "14340.0\n",
      "14640.0\n",
      "14940.0\n",
      "15240.0\n",
      "15540.0\n",
      "15840.0\n",
      "16140.0\n",
      "16440.0\n",
      "16740.0\n"
     ]
    }
   ],
   "source": [
    "times = []\n",
    "for i in siter:\n",
    "    header = np.loadtxt(sim_dir + f'Header.{i}')\n",
    "    print(header[6])\n",
    "    times.append(header[6])"
   ]
  },
  {
   "cell_type": "code",
   "execution_count": 30,
   "id": "a913d34f-5c68-43a2-9dc4-31fcefd9d74d",
   "metadata": {},
   "outputs": [
    {
     "name": "stdout",
     "output_type": "stream",
     "text": [
      "7740.0\n",
      "8040.0\n",
      "8340.0\n",
      "8640.0\n",
      "8940.0\n",
      "9240.0\n",
      "9540.0\n",
      "9840.0\n",
      "10140.0\n",
      "10440.0\n",
      "10740.0\n",
      "11040.0\n"
     ]
    }
   ],
   "source": [
    "sim_dir = '/data/bhatia/jonas/G_100/3D/'\n",
    "siter= ['062302','064671','067043','069447','071858','074219','076639','079042','081434','083791','086170','088576']\n",
    "times = []\n",
    "for i in siter:\n",
    "    header = np.loadtxt(sim_dir + f'Header.{i}')\n",
    "    print(header[6])\n",
    "    times.append(header[6])"
   ]
  },
  {
   "cell_type": "code",
   "execution_count": 32,
   "id": "d51567ee-42eb-416c-a908-78a978ad43d1",
   "metadata": {},
   "outputs": [
    {
     "name": "stdout",
     "output_type": "stream",
     "text": [
      "169830.0\n",
      "170130.0\n",
      "170430.0\n",
      "170730.0\n",
      "171030.0\n",
      "171330.0\n",
      "171630.0\n",
      "171930.0\n",
      "172230.0\n",
      "172530.0\n",
      "172830.0\n",
      "173130.0\n"
     ]
    }
   ],
   "source": [
    "sim_dir = '/data/bhatia/jonas/G_200/3D/'\n",
    "siter= ['459704','462122','464531','466962','469389','471811','474220','476643','479085','481513','483915','486360']\n",
    "times = []\n",
    "for i in siter:\n",
    "    header = np.loadtxt(sim_dir + f'Header.{i}')\n",
    "    print(header[6])\n",
    "    times.append(header[6])"
   ]
  },
  {
   "cell_type": "code",
   "execution_count": null,
   "id": "47d80f75-f98b-4c6d-a011-f191465d70cc",
   "metadata": {},
   "outputs": [],
   "source": []
  }
 ],
 "metadata": {
  "kernelspec": {
   "display_name": "py38_true_flux (scratch)",
   "language": "python",
   "name": "py38_true_flux"
  },
  "language_info": {
   "codemirror_mode": {
    "name": "ipython",
    "version": 3
   },
   "file_extension": ".py",
   "mimetype": "text/x-python",
   "name": "python",
   "nbconvert_exporter": "python",
   "pygments_lexer": "ipython3",
   "version": "3.8.18"
  }
 },
 "nbformat": 4,
 "nbformat_minor": 5
}
